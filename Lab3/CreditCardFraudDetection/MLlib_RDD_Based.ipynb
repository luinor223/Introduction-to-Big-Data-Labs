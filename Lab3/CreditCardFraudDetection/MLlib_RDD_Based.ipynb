{
 "cells": [
  {
   "cell_type": "code",
   "execution_count": 2,
   "metadata": {},
   "outputs": [
    {
     "name": "stderr",
     "output_type": "stream",
     "text": [
      "Setting default log level to \"WARN\".\n",
      "To adjust logging level use sc.setLogLevel(newLevel). For SparkR, use setLogLevel(newLevel).\n",
      "25/04/04 18:11:12 WARN NativeCodeLoader: Unable to load native-hadoop library for your platform... using builtin-java classes where applicable\n",
      "Setting Spark log level to \"ERROR\".\n"
     ]
    }
   ],
   "source": [
    "from pyspark.sql import SparkSession\n",
    "from pyspark.sql.functions import col, when\n",
    "\n",
    "from pyspark.ml.feature import VectorAssembler\n",
    "from pyspark.mllib.linalg import DenseVector\n",
    "from pyspark.mllib.regression import LabeledPoint\n",
    "from pyspark.mllib.classification import LogisticRegressionWithSGD, LogisticRegressionWithLBFGS\n",
    "from pyspark.mllib.evaluation import MulticlassMetrics, BinaryClassificationMetrics\n",
    "\n",
    "spark = SparkSession.builder\\\n",
    "    .appName(\"credit-card-fraud-detection\")\\\n",
    "    .master(\"local[*]\")\\\n",
    "    .config(\"spark.log.level\", \"ERROR\")\\\n",
    "    .getOrCreate()"
   ]
  },
  {
   "cell_type": "markdown",
   "metadata": {},
   "source": [
    "# Data preparation"
   ]
  },
  {
   "cell_type": "code",
   "execution_count": 3,
   "metadata": {},
   "outputs": [
    {
     "name": "stderr",
     "output_type": "stream",
     "text": [
      "                                                                                \r"
     ]
    },
    {
     "name": "stdout",
     "output_type": "stream",
     "text": [
      "+----+------------------+-------------------+----------------+------------------+-------------------+-------------------+-------------------+------------------+------------------+-------------------+------------------+------------------+------------------+------------------+------------------+------------------+------------------+-------------------+------------------+-------------------+--------------------+-------------------+------------------+------------------+------------------+------------------+--------------------+-------------------+------+-----+\n",
      "|Time|                V1|                 V2|              V3|                V4|                 V5|                 V6|                 V7|                V8|                V9|                V10|               V11|               V12|               V13|               V14|               V15|               V16|               V17|                V18|               V19|                V20|                 V21|                V22|               V23|               V24|               V25|               V26|                 V27|                V28|Amount|Class|\n",
      "+----+------------------+-------------------+----------------+------------------+-------------------+-------------------+-------------------+------------------+------------------+-------------------+------------------+------------------+------------------+------------------+------------------+------------------+------------------+-------------------+------------------+-------------------+--------------------+-------------------+------------------+------------------+------------------+------------------+--------------------+-------------------+------+-----+\n",
      "| 0.0|  -1.3598071336738|-0.0727811733098497|2.53634673796914|  1.37815522427443| -0.338320769942518|  0.462387777762292|  0.239598554061257|0.0986979012610507| 0.363786969611213| 0.0907941719789316|-0.551599533260813|-0.617800855762348|-0.991389847235408|-0.311169353699879|  1.46817697209427|-0.470400525259478| 0.207971241929242| 0.0257905801985591| 0.403992960255733|  0.251412098239705|  -0.018306777944153|  0.277837575558899|-0.110473910188767|0.0669280749146731| 0.128539358273528|-0.189114843888824|   0.133558376740387|-0.0210530534538215|149.62|    0|\n",
      "| 0.0|  1.19185711131486|   0.26615071205963|0.16648011335321| 0.448154078460911| 0.0600176492822243|-0.0823608088155687|-0.0788029833323113|0.0851016549148104|-0.255425128109186| -0.166974414004614|  1.61272666105479|  1.06523531137287|  0.48909501589608|-0.143772296441519| 0.635558093258208| 0.463917041022171|-0.114804663102346| -0.183361270123994|-0.145783041325259|-0.0690831352230203|  -0.225775248033138| -0.638671952771851| 0.101288021253234|-0.339846475529127| 0.167170404418143| 0.125894532368176|-0.00898309914322813| 0.0147241691924927|  2.69|    0|\n",
      "| 1.0| -1.35835406159823|  -1.34016307473609|1.77320934263119| 0.379779593034328| -0.503198133318193|   1.80049938079263|  0.791460956450422| 0.247675786588991| -1.51465432260583|  0.207642865216696| 0.624501459424895| 0.066083685268831| 0.717292731410831|-0.165945922763554|  2.34586494901581| -2.89008319444231|  1.10996937869599| -0.121359313195888| -2.26185709530414|  0.524979725224404|   0.247998153469754|  0.771679401917229| 0.909412262347719|-0.689280956490685|-0.327641833735251|-0.139096571514147| -0.0553527940384261|-0.0597518405929204|378.66|    0|\n",
      "| 1.0|-0.966271711572087| -0.185226008082898|1.79299333957872|-0.863291275036453|-0.0103088796030823|   1.24720316752486|   0.23760893977178| 0.377435874652262| -1.38702406270197|-0.0549519224713749|-0.226487263835401| 0.178228225877303| 0.507756869957169| -0.28792374549456|-0.631418117709045|  -1.0596472454325|-0.684092786345479|   1.96577500349538|  -1.2326219700892| -0.208037781160366|  -0.108300452035545|0.00527359678253453|-0.190320518742841| -1.17557533186321| 0.647376034602038|-0.221928844458407|  0.0627228487293033| 0.0614576285006353| 123.5|    0|\n",
      "| 2.0| -1.15823309349523|  0.877736754848451|  1.548717846511| 0.403033933955121| -0.407193377311653| 0.0959214624684256|  0.592940745385545|-0.270532677192282| 0.817739308235294|  0.753074431976354|-0.822842877946363|  0.53819555014995|   1.3458515932154| -1.11966983471731| 0.175121130008994|-0.451449182813529|-0.237033239362776|-0.0381947870352842| 0.803486924960175|  0.408542360392758|-0.00943069713232919|   0.79827849458971|-0.137458079619063| 0.141266983824769|-0.206009587619756| 0.502292224181569|   0.219422229513348|  0.215153147499206| 69.99|    0|\n",
      "+----+------------------+-------------------+----------------+------------------+-------------------+-------------------+-------------------+------------------+------------------+-------------------+------------------+------------------+------------------+------------------+------------------+------------------+------------------+-------------------+------------------+-------------------+--------------------+-------------------+------------------+------------------+------------------+------------------+--------------------+-------------------+------+-----+\n",
      "only showing top 5 rows\n",
      "\n"
     ]
    }
   ],
   "source": [
    "# Change the path to the CSV file as needed\n",
    "# Load the dataset\n",
    "df = spark.read.csv(\"../../data/creditcard.csv\", header=True, inferSchema=True)\n",
    "df.show(5)"
   ]
  },
  {
   "cell_type": "markdown",
   "metadata": {},
   "source": [
    "# Data preprocessing"
   ]
  },
  {
   "cell_type": "markdown",
   "metadata": {},
   "source": [
    "**Understanding the data**:\n",
    "- According to the dataset description, the input variables are the result of a PCA transformation except \"Time\" and \"Amount\" so the features are previously scaled. \n",
    "- Every value in the dataset is not null so imputing is also not needed.\n",
    "- The dataset is highly unbalanced, the positive class (frauds) account for 0.172% of all transactions. To deal with this problem, we have 2 methods:\n",
    "    - Cost-sensitive learning: the lost function will be adjusted to favor the detection of the minority class.\n",
    "    - Undersampling, oversampling technique or a combination of the two.\n",
    "\n",
    "Because of the reasons above and the fact that I will choose the cost-sensitive learning method to deal with the highly unbalanced nature of the dataset, this data processing step will include:\n",
    "- Adding a weight column of value 0.99828 whenever the label is 1 (minority) and 0.00172 when the label is 0 (majority) \n",
    "- Using the VectorAssembler class to assemble feature columns into a single vector column\n",
    "- Splitting the dataset into train and test set."
   ]
  },
  {
   "cell_type": "code",
   "execution_count": 3,
   "metadata": {},
   "outputs": [],
   "source": [
    "# Use all columns as features exclude the target column \"Class\"\n",
    "input_cols = df.columns[:-1]\n",
    "\n",
    "# Assemble the features into a single vector column\n",
    "assembler = VectorAssembler(inputCols=input_cols, outputCol=\"features\")\n",
    "df = assembler.transform(df).select(\"features\", \"Class\")\n",
    "\n",
    "# Sample training data in a stratified fashion\n",
    "train_df = df.sampleBy(\"Class\", {1: 0.8, 0: 0.8}, seed=42)\n",
    "\n",
    "# Get test data as the remaining set\n",
    "test_df = df.subtract(train_df)\n",
    "\n",
    "# Oversample the train df to deal with class imbalance\n",
    "# Calculate class counts in the training data\n",
    "class_counts = train_df.groupBy(\"Class\").count().collect()\n",
    "major_count = next((row['count'] for row in class_counts if row['Class'] == 0), 0)\n",
    "minor_count = next((row['count'] for row in class_counts if row['Class'] == 1), 0)\n",
    "# Calculate the desired oversampling ratio\n",
    "ratio = float(major_count) / minor_count\n",
    "# Filter out and oversample the minor class \n",
    "oversampled_minor_df = train_df\\\n",
    "    .filter(col(\"Class\") == 1)\\\n",
    "    .sample(withReplacement=True, fraction=ratio, seed=42)\n",
    "# Combine the minor into the train df\n",
    "train_df = train_df\\\n",
    "    .filter(col(\"Class\") == 0)\\\n",
    "    .union(oversampled_minor_df)"
   ]
  },
  {
   "cell_type": "markdown",
   "metadata": {},
   "source": [
    "# Train the Logistic Regression model using spark.mllib"
   ]
  },
  {
   "cell_type": "code",
   "execution_count": 14,
   "metadata": {},
   "outputs": [
    {
     "name": "stderr",
     "output_type": "stream",
     "text": [
      "                                                                                \r"
     ]
    }
   ],
   "source": [
    "# Convert the DataFrame into an RDD of LabeledPoint objects\n",
    "train_rdd = train_df.rdd.map(lambda row: LabeledPoint(row.Class, DenseVector(row.features.values)))\n",
    "\n",
    "# Train the logistic regression model\n",
    "model = LogisticRegressionWithLBFGS.train(train_rdd, intercept=True)"
   ]
  },
  {
   "cell_type": "markdown",
   "metadata": {},
   "source": [
    "# Evaluate on test set"
   ]
  },
  {
   "cell_type": "code",
   "execution_count": null,
   "metadata": {},
   "outputs": [
    {
     "name": "stdout",
     "output_type": "stream",
     "text": [
      "Coefficients:  [-1.1301222137139996e-05,1.0140537832385095,0.333050459631398,0.3343750167040232,0.9893938495441409,0.8300514129056135,-0.5279541236002336,-0.881900487720863,-0.5063825244715748,-0.8930615126383927,-1.7094928320742324,0.4033388749816862,-1.136705692059036,-0.3757678199445609,-1.4835055998944386,-0.22548697721935382,-0.9963148350091529,-1.2125049509150228,-0.22651769134432215,0.6323593306962435,-1.5160773153815292,0.2801917728569362,0.8997841827896961,0.448158197226758,-0.3352580099842403,-0.1605665927611555,-0.3755132181271749,-1.3638526068793428,0.22746495942303743,0.00945518194920525]\n",
      "Intercept:  -3.6508136814470724\n"
     ]
    },
    {
     "name": "stderr",
     "output_type": "stream",
     "text": [
      "/home/keineik/Projects/lab03-spark-ml/venv/lib64/python3.13/site-packages/pyspark/sql/context.py:158: FutureWarning: Deprecated in 3.0.0. Use SparkSession.builder.getOrCreate() instead.\n",
      "  warnings.warn(\n",
      "                                                                                \r"
     ]
    },
    {
     "name": "stdout",
     "output_type": "stream",
     "text": [
      "Accuracy: 0.9769013283069865\n",
      "Precision: {0.0: 0.9998541689452769, 1.0: 0.06381435823060189}\n",
      "Recall: {0.0: 0.977004328387453, 1.0: 0.9166666666666666}\n"
     ]
    },
    {
     "name": "stderr",
     "output_type": "stream",
     "text": [
      "[Stage 1024:=================================================>    (11 + 1) / 12]\r"
     ]
    },
    {
     "name": "stdout",
     "output_type": "stream",
     "text": [
      "Area under ROC: 0.9468\n"
     ]
    },
    {
     "name": "stderr",
     "output_type": "stream",
     "text": [
      "                                                                                \r"
     ]
    }
   ],
   "source": [
    "print(\"Coefficients: \", model.weights)\n",
    "print(\"Intercept: \", model.intercept)\n",
    "\n",
    "test_rdd = test_df.rdd.map(lambda row: LabeledPoint(row.Class, DenseVector(row.features.values)))\n",
    "predictionAndLabels = test_rdd.map(lambda p: (float(model.predict(p.features)), p.label))\n",
    "multiMetrics = MulticlassMetrics(predictionAndLabels)\n",
    "\n",
    "# Overall accuracy\n",
    "accuracy = multiMetrics.accuracy\n",
    "\n",
    "# Precision and recall for each label\n",
    "labels = predictionAndLabels.map(lambda x: x[1]).distinct().collect()\n",
    "precision_by_label = {label: multiMetrics.precision(label) for label in labels}\n",
    "recall_by_label = {label: multiMetrics.recall(label) for label in labels}\n",
    "\n",
    "print(\"Accuracy: {}\".format(accuracy))\n",
    "print(\"Precision:\", precision_by_label)\n",
    "print(\"Recall:\", recall_by_label)\n",
    "\n",
    "# Calculate the area under the ROC curve\n",
    "binaryMetrics = BinaryClassificationMetrics(predictionAndLabels)\n",
    "roc_auc = binaryMetrics.areaUnderROC\n",
    "print(\"Area under ROC: {:.4f}\".format(roc_auc))\n"
   ]
  }
 ],
 "metadata": {
  "kernelspec": {
   "display_name": ".venv",
   "language": "python",
   "name": "python3"
  },
  "language_info": {
   "codemirror_mode": {
    "name": "ipython",
    "version": 3
   },
   "file_extension": ".py",
   "mimetype": "text/x-python",
   "name": "python",
   "nbconvert_exporter": "python",
   "pygments_lexer": "ipython3",
   "version": "3.12.3"
  }
 },
 "nbformat": 4,
 "nbformat_minor": 2
}
